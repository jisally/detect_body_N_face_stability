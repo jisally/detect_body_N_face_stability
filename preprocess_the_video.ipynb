{
  "cells": [
    {
      "cell_type": "markdown",
      "metadata": {
        "id": "view-in-github",
        "colab_type": "text"
      },
      "source": [
        "<a href=\"https://colab.research.google.com/github/jisally/detect_body_N_face_stability/blob/main/preprocess_the_video.ipynb\" target=\"_parent\"><img src=\"https://colab.research.google.com/assets/colab-badge.svg\" alt=\"Open In Colab\"/></a>"
      ]
    },
    {
      "cell_type": "markdown",
      "source": [
        "#영상 좌우 반전(필요 시 진행)"
      ],
      "metadata": {
        "id": "tEgLXyHGxIMZ"
      }
    },
    {
      "cell_type": "code",
      "source": [
        "from google.colab import drive\n",
        "drive.mount('/content/drive')"
      ],
      "metadata": {
        "id": "CwzjWXzfxOIM"
      },
      "execution_count": null,
      "outputs": []
    },
    {
      "cell_type": "code",
      "source": [
        "import cv2\n",
        "\n",
        "# 비디오를 읽어옵니다.\n",
        "cap = cv2.VideoCapture('input_your_mp4')\n",
        "\n",
        "# 비디오의 프레임 너비, 높이, 초당 프레임 수를 가져옵니다.\n",
        "frame_width = int(cap.get(cv2.CAP_PROP_FRAME_WIDTH))\n",
        "frame_height = int(cap.get(cv2.CAP_PROP_FRAME_HEIGHT))\n",
        "fps = cap.get(cv2.CAP_PROP_FPS)\n",
        "\n",
        "# 출력 비디오의 코덱과 저장 경로를 설정합니다.\n",
        "fourcc = cv2.VideoWriter_fourcc(*'mp4v')\n",
        "out = cv2.VideoWriter('input_your_mp4', fourcc, fps, (frame_width, frame_height))\n",
        "\n",
        "while(cap.isOpened()):\n",
        "    ret, frame = cap.read()\n",
        "\n",
        "    if ret:\n",
        "        # 좌우 반전합니다.\n",
        "        frame = cv2.flip(frame, 1)\n",
        "\n",
        "        # 결과를 저장합니다.\n",
        "        out.write(frame)\n",
        "    else:\n",
        "        break\n",
        "\n",
        "# 작업이 끝나면 비디오를 닫습니다.\n",
        "cap.release()\n",
        "out.release()\n"
      ],
      "metadata": {
        "id": "PkNQ9XpDxEf9"
      },
      "execution_count": null,
      "outputs": []
    },
    {
      "cell_type": "markdown",
      "source": [],
      "metadata": {
        "id": "-g92ZHF0ENfL"
      }
    },
    {
      "cell_type": "markdown",
      "source": [
        "#아이: 왼쪽 / 선생님 : 오른쪽에 있는 경우 아이만 추출"
      ],
      "metadata": {
        "id": "tk0hW2RMoYqJ"
      }
    },
    {
      "cell_type": "code",
      "source": [
        "!wget https://pjreddie.com/media/files/yolov3.weights\n",
        "!wget https://github.com/pjreddie/darknet/blob/master/cfg/yolov3.cfg?raw=true -O ./yolov3.cfg\n",
        "!wget https://github.com/pjreddie/darknet/blob/master/data/coco.names?raw=true -O ./coco.names\n"
      ],
      "metadata": {
        "id": "7Ra9x9or3yF9"
      },
      "execution_count": null,
      "outputs": []
    },
    {
      "cell_type": "code",
      "source": [
        "import cv2\n",
        "import numpy as np\n",
        "from tqdm import tqdm\n",
        "\n",
        "# YOLO 모델 로드\n",
        "net = cv2.dnn.readNet('yolov3.weights', 'yolov3.cfg')\n",
        "\n",
        "# 클래스 이름 로드\n",
        "with open('coco.names', 'r') as f:\n",
        "    classes = [line.strip() for line in f.readlines()]\n",
        "\n",
        "layer_names = net.getLayerNames()\n",
        "output_layers = [layer_names[i[0] - 1] if isinstance(i, list) else layer_names[i - 1] for i in net.getUnconnectedOutLayers()]\n",
        "\n",
        "# 비디오 로드\n",
        "cap = cv2.VideoCapture('input_your_mp4')\n",
        "_, img = cap.read()\n",
        "height, width, channels = img.shape\n",
        "\n",
        "# 원본 영상의 프레임 속도 구하기\n",
        "fps = cap.get(cv2.CAP_PROP_FPS)\n",
        "\n",
        "# 총 프레임 수 구하기\n",
        "total_frames = int(cap.get(cv2.CAP_PROP_FRAME_COUNT))\n",
        "\n",
        "# 객체 탐지\n",
        "blob = cv2.dnn.blobFromImage(img, 0.00392, (416, 416), (0, 0, 0), True, crop=False)\n",
        "net.setInput(blob)\n",
        "outs = net.forward(output_layers)\n",
        "\n",
        "# 사람 객체 정보 저장\n",
        "boxes = []\n",
        "\n",
        "for out in outs:\n",
        "    for detection in out:\n",
        "        scores = detection[5:]\n",
        "        class_id = np.argmax(scores)\n",
        "        confidence = scores[class_id]\n",
        "        if confidence > 0.5 and class_id == 0:  # 'person' 클래스만 탐지\n",
        "            # 객체 탐지\n",
        "            center_x = int(detection[0] * width)\n",
        "            center_y = int(detection[1] * height)\n",
        "            w = int(detection[2] * width)\n",
        "            h = int(detection[3] * height)\n",
        "\n",
        "            # 경계 상자 좌표\n",
        "            x = int(center_x - w / 2)\n",
        "            y = int(center_y - h / 2)\n",
        "\n",
        "            boxes.append([x, y, w, h])\n",
        "\n",
        "# 오른쪽 사람 찾기\n",
        "boxes = sorted(boxes, key=lambda x:x[0])\n",
        "right_box = boxes[-1]  # 가장 오른쪽에 있는 사람의 경계 상자\n",
        "\n",
        "# 오른쪽 사람의 박스 중에서 왼쪽 사람과 가까운 지점의 x좌표 구하기\n",
        "boundary_x = right_box[0]  # 오른쪽 사람의 경계 상자의 왼쪽 끝 x좌표\n",
        "\n",
        "# 비디오 작성\n",
        "fourcc = cv2.VideoWriter_fourcc(*'mp4v')\n",
        "out = cv2.VideoWriter('input_your_new_mp4', fourcc, fps, (boundary_x, height))\n",
        "\n",
        "# tqdm을 사용하여 진행 상태 바 출력\n",
        "for i in tqdm(range(total_frames), desc=\"Processing frames\"):\n",
        "    ret, frame = cap.read()\n",
        "    if ret==True:\n",
        "        # 경계선을 기준으로 왼쪽만 추출\n",
        "        left_half = frame[:, :boundary_x]\n",
        "        out.write(left_half)\n",
        "    else:\n",
        "        break\n",
        "\n",
        "# 비디오 해제\n",
        "cap.release()\n",
        "out.release()\n",
        "cv2.destroyAllWindows()\n"
      ],
      "metadata": {
        "id": "pNqVkmgvohiq"
      },
      "execution_count": null,
      "outputs": []
    }
  ],
  "metadata": {
    "colab": {
      "provenance": [],
      "mount_file_id": "1zLGn9vbtjh7DKiwjo_fDUncPRELKAMka",
      "authorship_tag": "ABX9TyOal46kuW+W0SC1x2NdYL8h",
      "include_colab_link": true
    },
    "kernelspec": {
      "display_name": "Python 3",
      "name": "python3"
    },
    "language_info": {
      "name": "python"
    }
  },
  "nbformat": 4,
  "nbformat_minor": 0
}